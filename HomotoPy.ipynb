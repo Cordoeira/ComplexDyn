{
 "cells": [
  {
   "cell_type": "markdown",
   "id": "9b4f38af",
   "metadata": {},
   "source": [
    "# Análise de Equação Homotópica e Derivada Total\n",
    "\n",
    "$-\\frac{d \\tau}{dt} f[x(t)] + [1 - \\tau(t)] \\frac{\\partial f}{\\partial x} \\frac{dx}{dt} + \\frac{d \\tau}{dt} g[x(t)] + \\tau(t) \\frac{\\partial g}{\\partial x} \\frac{dx}{dt} = 0$\n",
    "\n",
    "Tal que $H(x, \\tau) = (1 - \\tau)f(x) + \\tau(x)$"
   ]
  },
  {
   "cell_type": "markdown",
   "id": "5e89b539",
   "metadata": {},
   "source": [
    "- Necessito de um problema para encontrar soluções. Testarei com\n",
    "\n",
    "$g(x) = x^3 -2 x - 5$ aproximada por uma reta $f(x) = x - 3$"
   ]
  },
  {
   "cell_type": "code",
   "execution_count": 1,
   "id": "dfb8af53",
   "metadata": {},
   "outputs": [],
   "source": [
    "# Bibliotecas\n",
    "\n",
    "import numpy as np\n",
    "import matplotlib.pyplot as plt\n",
    "from scipy.linalg import solve, svd\n",
    "from scipy.optimize import approx_fprime"
   ]
  },
  {
   "cell_type": "code",
   "execution_count": null,
   "id": "fe9e8bb2",
   "metadata": {},
   "outputs": [],
   "source": [
    "def f(x):\n",
    "\n",
    "    x_scalar = np.asarray(x).item()\n",
    "    \n",
    "    return x_scalar - 3.0\n",
    "\n",
    "def g(x):\n",
    "\n",
    "    x_scalar = np.asarray(x).item()\n",
    "    \n",
    "    return x_scalar**3 - 2*x_scalar - 5.0\n",
    "\n",
    "def H(x, tau, f_func=f, g_func=g):\n",
    "\n",
    "    x_scalar = np.asarray(x).item()\n",
    "\n",
    "    return (1 - tau) * f_func(x_scalar) + tau * g_func(x_scalar)\n",
    "\n",
    "def dHdx(x, tau, f_func=f, g_func=g, epsilon=None):\n",
    "\n",
    "    x_vec = np.array([x])\n",
    "\n",
    "    if epsilon is None:\n",
    "        epsilon = np.sqrt(np.finfo(float).eps)\n",
    "    \n",
    "    num_dfdx = approx_fprime(x_vec, f_func, epsilon)[0]\n",
    "\n",
    "    num_dgdx = approx_fprime(x_vec, g_func, epsilon)[0]\n",
    "\n",
    "    val_dHdx = (1 - tau) * num_dfdx + tau * num_dgdx\n",
    "    \n",
    "    return val_dHdx\n",
    "\n",
    "def dHdtau(x, tau, f_func=f, g_func=g):\n",
    "\n",
    "    x_scalar = np.asarray(x).item()\n",
    "    return g_func(x_scalar) - f_func(x_scalar)\n",
    "\n",
    "\n",
    "\n"
   ]
  },
  {
   "cell_type": "code",
   "execution_count": null,
   "id": "7158ca49",
   "metadata": {},
   "outputs": [],
   "source": []
  }
 ],
 "metadata": {
  "kernelspec": {
   "display_name": "ComplexDyn",
   "language": "python",
   "name": "python3"
  },
  "language_info": {
   "codemirror_mode": {
    "name": "ipython",
    "version": 3
   },
   "file_extension": ".py",
   "mimetype": "text/x-python",
   "name": "python",
   "nbconvert_exporter": "python",
   "pygments_lexer": "ipython3",
   "version": "3.13.3"
  }
 },
 "nbformat": 4,
 "nbformat_minor": 5
}
